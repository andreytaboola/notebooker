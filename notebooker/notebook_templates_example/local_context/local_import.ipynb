{
 "cells": [
  {
   "cell_type": "code",
   "execution_count": 1,
   "id": "c63308ae-fa0a-4cd3-8e48-c5c2f16836c2",
   "metadata": {
    "editable": true,
    "execution": {
     "iopub.execute_input": "2024-06-26T09:33:30.963587Z",
     "iopub.status.busy": "2024-06-26T09:33:30.963239Z",
     "iopub.status.idle": "2024-06-26T09:33:30.974539Z",
     "shell.execute_reply": "2024-06-26T09:33:30.973885Z",
     "shell.execute_reply.started": "2024-06-26T09:33:30.963543Z"
    },
    "slideshow": {
     "slide_type": ""
    },
    "tags": []
   },
   "outputs": [
    {
     "name": "stdout",
     "output_type": "stream",
     "text": [
      "Hello, World!\n"
     ]
    }
   ],
   "source": [
    "import hello_module\n",
    "\n",
    "hello_module.print_hello()"
   ]
  },
  {
   "cell_type": "code",
   "execution_count": null,
   "metadata": {
    "lines_to_next_cell": 0,
    "tags": [
     "parameters"
    ]
   },
   "outputs": [],
   "source": [
    "plots = 5\n"
   ],
   "id": "e4425e0625d403a"
  }
 ],
 "metadata": {
  "kernelspec": {
   "display_name": "Python 3",
   "language": "python",
   "name": "python3"
  },
  "language_info": {
   "codemirror_mode": {
    "name": "ipython",
    "version": 3
   },
   "file_extension": ".py",
   "mimetype": "text/x-python",
   "name": "python",
   "nbconvert_exporter": "python",
   "pygments_lexer": "ipython3",
   "version": "3.8.10"
  }
 },
 "nbformat": 4,
 "nbformat_minor": 5
}
